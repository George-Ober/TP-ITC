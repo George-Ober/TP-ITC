{
 "cells": [
  {
   "cell_type": "markdown",
   "metadata": {},
   "source": [
    "## Tri par fusion\n",
    "### Principe du tri\n",
    "Inventé par *John von Neumann* en 1945.\n",
    "\n",
    "L'algorithme du **tri par fusion** suit la méthode \"diviser pour régner\". Le principe global est le suivant :\n",
    "- **Diviser:** on divise la suite de $n$ éléments à trier en deux sous suites de $\\frac{n}{2}$ éléments chacune.\n",
    "- **Régner:** on trie les deux sous-suites de manière récursive en utilisant le tri par fusion.\n",
    "- **Combiner:** on combine les deux sous-suites triées pour obtenir une copie triée de la suite originelle.\n",
    "\n",
    "Les appels récursifs s'arrêtente quand la suite à trier a une longueur de $1$, car dans ce cas, il n'y a rien à faire, car une suit de longueur $1$ est déjà triée.\n",
    "\n",
    "Considérons la suite $(3, 2, 5, 8, 9, 3, 5, 6, 4)$. On commence par la diviser en deux parties égales ou presque (suivant la parité du nombre d'éléments). On considèrera que la sous suite de gauche a $n//2$ éléments, tandis que la partie de droite contient ceux qui restent.\n",
    "\n",
    "**Exercice 1 :** Exemple de tri par fusion\n",
    "- $(12, 5, 9, 10, 8)$\n",
    "- $(10, 9, 8, 7, 6, 5, 4, 3, 2, 1)$\n",
    "\n",
    "### L'algorithme en style fonctionnel\n",
    "#### Rappels sur les extration de sous-listes\n",
    "Ces techniques d'extraction de sous-tableaux[^1]\n",
    "\n",
    "[^1]: D'un point de vue théorique on parlera plutôt de tableaux, ce sont des collections ordonnées en nombre *fixé* d'éléments. En Python les tableaux sont représentés par des tableaux dynamiques appelés listes, car les tableaux dynamiques implémentés par des *listes chaînées*, qui constituent à elles seules un type de données abstrait (TDA) important.\n",
    "\n",
    "**Exercice 2**: Techniques de slicing\n",
    "1. Référencer par la variable `a1` une copie superficielle de la liste `a`\n",
    "Montrer que ce sont des objets différents.\n",
    "Modifier `a`. Est-ce que `a1` est modifié?"
   ]
  },
  {
   "cell_type": "code",
   "execution_count": 7,
   "metadata": {},
   "outputs": [
    {
     "name": "stdout",
     "output_type": "stream",
     "text": [
      "4436574272 4436578432\n",
      "[100, 5, 9, 10, 8] [12, 5, 9, 10, 8]\n"
     ]
    }
   ],
   "source": [
    "a = [12, 5, 9, 10, 8]\n",
    "\n",
    "a1 = a[:] # Copie superficielle\n",
    "\n",
    "a[0] = 100\n",
    "\n",
    "print(id(a), id(a1))\n",
    "print(a, a1)"
   ]
  },
  {
   "cell_type": "markdown",
   "metadata": {},
   "source": [
    "2. Référencer par la variable `a2` la sous liste extraite de `a` en prenant tous les éléments de `a` dans le même ordre sauf le premier"
   ]
  },
  {
   "cell_type": "code",
   "execution_count": 8,
   "metadata": {},
   "outputs": [
    {
     "name": "stdout",
     "output_type": "stream",
     "text": [
      "[5, 9, 10, 8]\n"
     ]
    }
   ],
   "source": [
    "a2 = a[1:]\n",
    "print(a2)"
   ]
  },
  {
   "cell_type": "markdown",
   "metadata": {},
   "source": [
    "3. Référencer par la variable `a3` et la variable `a4` la sous-liste extraite de `a` en prenant tous les éléments de `a` dans le même ordre sauf le dernier. On pourra utiliser la notation positive pour `a3` est négative pour `a4`"
   ]
  },
  {
   "cell_type": "code",
   "execution_count": 10,
   "metadata": {},
   "outputs": [
    {
     "name": "stdout",
     "output_type": "stream",
     "text": [
      "[12, 5, 9, 10] [12, 5, 9, 10]\n"
     ]
    }
   ],
   "source": [
    "a = [12, 5, 9, 10, 8] # Redéfinition\n",
    "a3 = a[:-1]\n",
    "a4 = a[:(len(a) - 1)]\n",
    "\n",
    "print(a3, a4)"
   ]
  },
  {
   "cell_type": "markdown",
   "metadata": {},
   "source": [
    "4. Référencer par la variable `a5` la sous-liste extraite de `a` en prenant les éléments de `a` d'indices `1` à `3` dans le même ordre"
   ]
  },
  {
   "cell_type": "code",
   "execution_count": 16,
   "metadata": {},
   "outputs": [
    {
     "name": "stdout",
     "output_type": "stream",
     "text": [
      "[5, 9]\n"
     ]
    }
   ],
   "source": [
    "a5 = a[1:3]\n",
    "print(a5)"
   ]
  },
  {
   "cell_type": "markdown",
   "metadata": {},
   "source": [
    "5. Référencer par la variable `a6` la sous-liste extraite de `a` en prenant les éléments de `a` du début jusqu'à celui d'indice `2`"
   ]
  },
  {
   "cell_type": "code",
   "execution_count": 15,
   "metadata": {},
   "outputs": [
    {
     "name": "stdout",
     "output_type": "stream",
     "text": [
      "[12, 5]\n"
     ]
    }
   ],
   "source": [
    "a6 = a[:2]\n",
    "print(a6)"
   ]
  },
  {
   "cell_type": "markdown",
   "metadata": {},
   "source": [
    "6. Référencer par la variable `a7` la sous-liste extraite de `a` en prenant les éléments de `a` à partir de celui d'indice `3` jusqu'au dernier inclus."
   ]
  },
  {
   "cell_type": "code",
   "execution_count": 17,
   "metadata": {},
   "outputs": [
    {
     "name": "stdout",
     "output_type": "stream",
     "text": [
      "[10, 8]\n"
     ]
    }
   ],
   "source": [
    "a7 = a[3:]\n",
    "print(a7)"
   ]
  },
  {
   "cell_type": "markdown",
   "metadata": {},
   "source": [
    "#### Fusion récursive de deux tableaux triés\n",
    "**Exercice 3** : Fusion réursive de deux tableaux triés\n",
    "\n",
    "Écrire la fonction récursive `fusrec(t1, t2)` qui prend en argument deux listes triées `t1` et `t2` et qui renvoie la liste `t` en fusionnant par ordre croissant toutes les valeurs de `t1` et `t2`."
   ]
  },
  {
   "cell_type": "code",
   "execution_count": 20,
   "metadata": {},
   "outputs": [
    {
     "name": "stdout",
     "output_type": "stream",
     "text": [
      "[2]\n",
      "[0, 1, 2, 3, 4, 6, 7]\n"
     ]
    }
   ],
   "source": [
    "def fusrec(t1, t2):\n",
    "    \"\"\"Fusionne les listes triées t1 et t2 de façon récursive\"\"\"\n",
    "    if len(t2) == 0:\n",
    "        return t1\n",
    "    if len(t1) == 0:\n",
    "        return t2\n",
    "    if t1[0] >= t2[0]:\n",
    "        return t2[:1] + fusrec(t1, t2[1:])\n",
    "    else:\n",
    "        return t1[:1] + fusrec(t1[1:], t2)\n",
    "    \n",
    "print(fusrec([], [2]))\n",
    "print(fusrec([0, 2, 4, 6], [1, 3, 7]))"
   ]
  },
  {
   "cell_type": "markdown",
   "metadata": {},
   "source": [
    "#### Fonction de tri par fusion\n",
    "\n",
    "**Exercice 4**: Tri par fusion\n",
    "Écrire la fonction récursive `trifrec(t)` qui prend en argument une liste `t` de nombre et renvoie une liste triée par ordre croissant contenant les mêmes éléments, répétitions incluses."
   ]
  },
  {
   "cell_type": "code",
   "execution_count": 26,
   "metadata": {},
   "outputs": [
    {
     "data": {
      "text/plain": [
       "[5, 8, 9, 10, 12]"
      ]
     },
     "execution_count": 26,
     "metadata": {},
     "output_type": "execute_result"
    }
   ],
   "source": [
    "def trifrec(t):\n",
    "    if len(t) <= 1 :\n",
    "        return t\n",
    "    l = len(t) // 2\n",
    "    return fusrec(trifrec(t[:l]), trifrec(t[l:]))\n",
    "\n",
    "trifrec([12, 5, 9, 10, 8])"
   ]
  },
  {
   "cell_type": "markdown",
   "metadata": {},
   "source": [
    "La liste initiale n'a pas été modifiée, on n'a donc pas de tri en place.\n",
    "\n",
    "### L'algorithme en style itératif\n",
    "L'intérêt de cette version par rapport à la version précédente est d'effectuer un tri en place: après exécution, le tableau passé en paramètre est lui-même trié, on utilise en pratique des fonctions Python qui agissent par effet de bord (ce sont des procédures au sens informatique du terme)\n",
    "\n",
    "\n",
    "#### Fusion de deux tableaux triés\n",
    "La partie essentielle de l'algorithme du tri par fusion est la fusion de deux suites triées dans l'étape *combiner*. Pour faire cette fusion, on utilise une procédure auxiliaire[^3]\n",
    "\n",
    "[^3]: En informatique générale les *procédures* sont des parties de codes factorisées qui ne renvoient rien lorsqu'elles sont exécutées. Les *fonctions* sont elles aussi des parties de code qui sont factorisées mais qui doivent renvoyer un objet. En Python les procédures sont implémentées par des fonctions qui retournent le mot clé `None`\n",
    "\n",
    "```python\n",
    "fusion(t, p, q, r)\n",
    "```\n",
    "où `t` est un tableau et `p`, `q`, et `r` sont des indices du tableau."
   ]
  },
  {
   "cell_type": "markdown",
   "metadata": {},
   "source": [
    "\n",
    "**Exercice 5**: Conditions sur les indices\n",
    "\n",
    "On considère un les deux sous-tableaux $t[p\\dots q]$ et $t[q+1\\dots r]$. Quelle est la double inégalité de la forme\n",
    "$$\n",
    "u \\leqslant q < w\n",
    "$$\n",
    "Que doivent vérifier $p$, $q$, et $r$ pour que chacun de ces sous-tableaux contienne au moins un élément ?\n",
    "\n",
    "**Exercice 6**: Funsion de séquences triées\n",
    "\n",
    "Écrire la fonction `fusion(t, p, q, r)` décrite précédemment."
   ]
  },
  {
   "cell_type": "code",
   "execution_count": null,
   "metadata": {},
   "outputs": [],
   "source": [
    "# def fusion(t, p, q, r):\n",
    "#     g = p\n",
    "#     d = q + 1\n",
    "#     while"
   ]
  },
  {
   "cell_type": "markdown",
   "metadata": {},
   "source": [
    "# Tri Rapide\n",
    "## L'algorithme en style fonctionnel\n",
    "\n",
    "**Exercice 8**: tri rapide\n",
    "\n",
    "Écrire la fonction `qsort(a)` qui retourne une copie de la liste $a$ triée. On pourra largement utiliser les listes par compréhension"
   ]
  },
  {
   "cell_type": "code",
   "execution_count": null,
   "metadata": {},
   "outputs": [],
   "source": [
    "def qsort(a):\n",
    "    if len(a) <= 1:\n",
    "        return a\n",
    "    else:\n",
    "        pivot = a[0]\n",
    "        a_inf = [x for x in a[1:] if x <= pivot]\n",
    "        a_sup = [x for x in a[1:] if x > pivot]\n",
    "        return a_inf + [pivot] + a_sup"
   ]
  }
 ],
 "metadata": {
  "kernelspec": {
   "display_name": ".venv",
   "language": "python",
   "name": "python3"
  },
  "language_info": {
   "codemirror_mode": {
    "name": "ipython",
    "version": 3
   },
   "file_extension": ".py",
   "mimetype": "text/x-python",
   "name": "python",
   "nbconvert_exporter": "python",
   "pygments_lexer": "ipython3",
   "version": "3.12.3"
  }
 },
 "nbformat": 4,
 "nbformat_minor": 2
}
