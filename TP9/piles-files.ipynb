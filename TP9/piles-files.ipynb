{
 "cells": [
  {
   "cell_type": "markdown",
   "metadata": {},
   "source": [
    "# Piles\n",
    "On commence d'abord par définir les opérations de base sur cette structure de données"
   ]
  },
  {
   "cell_type": "code",
   "execution_count": 74,
   "metadata": {},
   "outputs": [],
   "source": [
    "def creer_pile_vide():\n",
    "    # Renvoie une pile vide\n",
    "    return []\n",
    "\n",
    "\n",
    "def empiler(e, p):\n",
    "    p.append(e)\n",
    "\n",
    "\n",
    "def depiler(p):\n",
    "    sommet = p.pop()\n",
    "    return sommet\n",
    "\n",
    "\n",
    "def est_pile_vide(p):\n",
    "    return len(p) == 0\n",
    "\n",
    "\n",
    "def creer_file_vide():\n",
    "    return []"
   ]
  },
  {
   "cell_type": "markdown",
   "metadata": {},
   "source": [
    "D'autres fonctions peuvent fournir des informations sur une pile comme\n",
    "- `sommet(p)` qui renvoie la valeur située au sommet de la pile `p` si `p` est non vide\n",
    "- `taille(p)` qui renvoie le nombre d'éléments dans la pile `p`."
   ]
  },
  {
   "cell_type": "code",
   "execution_count": 75,
   "metadata": {},
   "outputs": [],
   "source": [
    "def sommet(p):\n",
    "    assert not est_pile_vide(p)\n",
    "    s = depiler(p)\n",
    "    empiler(s, p)\n",
    "    return s\n",
    "\n",
    "def taille_pile(p):\n",
    "    s = creer_pile_vide()\n",
    "    n = 0\n",
    "    while not est_pile_vide(p):\n",
    "        empiler(depiler(p), s)\n",
    "        n += 1\n",
    "\n",
    "    while not est_pile_vide(s):\n",
    "        empiler(depiler(s), p)\n",
    "\n",
    "    return n"
   ]
  },
  {
   "cell_type": "markdown",
   "metadata": {},
   "source": [
    "## Exercices\n",
    "- `permuter_sommet(p)` modifie la pile `p` en intervertissant les deux éléments en haut de cette pile si elle a au moins deux éléments, et la laisse inchangée sinon\n",
    "- `renvoyer(k, p)` qui, sans modifier la pile `p` renvoie le `k`-ième élément (d'indice `k+1`)"
   ]
  },
  {
   "cell_type": "code",
   "execution_count": 76,
   "metadata": {},
   "outputs": [],
   "source": [
    "def permuter_sommet(p):\n",
    "    n = taille_pile(p)\n",
    "    if n > 1:\n",
    "        a = depiler(p)\n",
    "        b = depiler(p)\n",
    "        empiler(a, p)\n",
    "        empiler(b, p)\n",
    "\n",
    "def renvoyer(k, p):\n",
    "    b = creer_pile_vide()\n",
    "    n = 0\n",
    "    a = None\n",
    "    while n < k and not est_pile_vide(p):\n",
    "        a = depiler(p)\n",
    "        empiler(a, b)\n",
    "        n += 1\n",
    "\n",
    "    while not est_pile_vide(b):\n",
    "        empiler(depiler(b), p)\n",
    "\n",
    "    return None if n != k else a"
   ]
  },
  {
   "cell_type": "markdown",
   "metadata": {},
   "source": [
    "- `deverser(p_1, p_2)` qui dépile la pile `p_1` et l'empile au dessus de la pile `p_2` (les éléments de `p_1` sont placés en ordre inverse sur `p_2`)\n",
    "- `extraire_positif(p)` qui prend en argument une pile `p` d'entiers relatifs et qui renvoie la pile consituée des éléments strictement positifs de `p` obtenue en conservant l'odre d'apparition des éléments dans `p`.\n",
    "- `extraire_positif2(p)` qui répond aux mêmes spécifications, mais qui doit aussi laisser `p` inchangée."
   ]
  },
  {
   "cell_type": "code",
   "execution_count": 77,
   "metadata": {},
   "outputs": [],
   "source": [
    "def deverser(p_1, p_2):\n",
    "    while not est_pile_vide(p_1):\n",
    "        empiler(depiler(p_1), p_2)\n",
    "\n",
    "def extraire_positif(p):\n",
    "    a = creer_pile_vide()\n",
    "    b = creer_pile_vide()\n",
    "    \n",
    "    while not est_pile_vide(p):\n",
    "        j = depiler(p)\n",
    "        if j > 0:\n",
    "            empiler(j, a)\n",
    "        empiler(j, b)\n",
    "\n",
    "    n = 0\n",
    "    while not est_pile_vide(a):\n",
    "        empiler(depiler(a), p)\n",
    "        n += 1\n",
    "\n",
    "    while not est_pile_vide(p):\n",
    "        empiler(depiler(p), b)\n",
    "\n",
    "    k = 0\n",
    "    while k < n:\n",
    "        empiler(depiler(b), a)\n",
    "        k += 1\n",
    "\n",
    "    while not est_pile_vide(b):\n",
    "        empiler(depiler(b), p)\n",
    "\n",
    "    return a\n",
    "\n",
    "def extraire_positif2(p):\n",
    "    a = creer_pile_vide()\n",
    "    b = creer_pile_vide()\n",
    "    while not est_pile_vide(p):\n",
    "        k = depiler(p)\n",
    "        empiler(k, a)\n",
    "        if k > 0:\n",
    "            empiler(k, b)\n",
    "    \n",
    "    deverser(a, p)\n",
    "    deverser(b, a)\n",
    "    return a"
   ]
  },
  {
   "cell_type": "markdown",
   "metadata": {},
   "source": [
    "## Applications\n",
    "Expressions bien parenthésées"
   ]
  },
  {
   "cell_type": "code",
   "execution_count": 78,
   "metadata": {},
   "outputs": [],
   "source": [
    "def parentheses(m):\n",
    "    a = creer_pile_vide()\n",
    "    for car in m:\n",
    "        if car == \"(\":\n",
    "            empiler('c', a)\n",
    "        elif car == \")\":\n",
    "            if est_pile_vide(a): return False\n",
    "            depiler(a)\n",
    "    return est_pile_vide(a) "
   ]
  },
  {
   "cell_type": "markdown",
   "metadata": {},
   "source": [
    "Calcul arithmétique en notation postfixée.\n",
    "La fonction suivante marcherait en théorie pour des expressions où les entiers n'auraient qu'un seul chiffre\n",
    "$$\n",
    "\\underbrace{ \\underbrace{ 1 \\underbrace{ 2 3 * }_{ 6 } + }_{ 7 } 4 * }_{ 28 }\n",
    "$$"
   ]
  },
  {
   "cell_type": "code",
   "execution_count": 79,
   "metadata": {},
   "outputs": [],
   "source": [
    "def evalue_chiffres(expr :str) -> int:\n",
    "    pile = creer_pile_vide()\n",
    "    for s in expr:\n",
    "        if s == \"+\":\n",
    "            a = depiler(pile)\n",
    "            b = depiler(pile)\n",
    "            empiler(a + b, pile)\n",
    "        elif s == \"*\":\n",
    "            a = depiler(pile)\n",
    "            b = depiler(pile)\n",
    "            empiler(a * b, pile)\n",
    "        elif s == \"-\":\n",
    "            a = depiler(pile)\n",
    "            b = depiler(pile)\n",
    "            empiler(a - b, pile)\n",
    "        else:\n",
    "            empiler(int(s), pile)\n",
    "    \n",
    "    return depiler(pile)\n"
   ]
  },
  {
   "cell_type": "code",
   "execution_count": 80,
   "metadata": {},
   "outputs": [
    {
     "data": {
      "text/plain": [
       "28"
      ]
     },
     "execution_count": 80,
     "metadata": {},
     "output_type": "execute_result"
    }
   ],
   "source": [
    "evalue_chiffres(\"123*+4*\")"
   ]
  },
  {
   "cell_type": "markdown",
   "metadata": {},
   "source": [
    "Il faut donc s'arranger pour faire des split "
   ]
  },
  {
   "cell_type": "code",
   "execution_count": 81,
   "metadata": {},
   "outputs": [],
   "source": [
    "def evalue(expr :str) -> int:\n",
    "    pile = creer_pile_vide()\n",
    "    l = expr.split(\" \", -1)\n",
    "    for s in l:\n",
    "        if s == \"+\":\n",
    "            a = depiler(pile)\n",
    "            b = depiler(pile)\n",
    "            empiler(a + b, pile)\n",
    "        elif s == \"*\":\n",
    "            a = depiler(pile)\n",
    "            b = depiler(pile)\n",
    "            empiler(a * b, pile)\n",
    "        elif s == \"-\":\n",
    "            a = depiler(pile)\n",
    "            b = depiler(pile)\n",
    "            empiler(a - b, pile)\n",
    "        else:\n",
    "            empiler(int(s), pile)\n",
    "    \n",
    "    return depiler(pile)"
   ]
  },
  {
   "cell_type": "markdown",
   "metadata": {},
   "source": [
    "Ici cela marche bien avec plusieurs chiffres"
   ]
  },
  {
   "cell_type": "code",
   "execution_count": 82,
   "metadata": {},
   "outputs": [
    {
     "data": {
      "text/plain": [
       "560"
      ]
     },
     "execution_count": 82,
     "metadata": {},
     "output_type": "execute_result"
    }
   ],
   "source": [
    "evalue(\"40 30 + 8 *\")"
   ]
  },
  {
   "cell_type": "markdown",
   "metadata": {},
   "source": [
    "# Files\n",
    "Similairement, voici la définition de cette structure de données"
   ]
  },
  {
   "cell_type": "code",
   "execution_count": 83,
   "metadata": {},
   "outputs": [],
   "source": [
    "def enfiler(e, f):\n",
    "    f.append(e)\n",
    "\n",
    "\n",
    "def defiler(f):\n",
    "    e = f.pop(0)\n",
    "    return e\n",
    "\n",
    "\n",
    "def est_file_vide(f):\n",
    "    return len(f) == 0\n",
    "\n",
    "\n",
    "\n",
    "def taille_file(f):\n",
    "    j = creer_file_vide()\n",
    "    n = 0\n",
    "    while not est_file_vide(f):\n",
    "        enfiler(defiler(f), j)\n",
    "        n += 1\n",
    "\n",
    "    while not est_file_vide(j):\n",
    "        enfiler(defiler(j), f)\n",
    "\n",
    "    return n"
   ]
  },
  {
   "cell_type": "markdown",
   "metadata": {},
   "source": [
    "On propose donc"
   ]
  },
  {
   "cell_type": "code",
   "execution_count": 84,
   "metadata": {},
   "outputs": [],
   "source": [
    "def tete(f):\n",
    "    a = defiler(f)\n",
    "    b = creer_file_vide()\n",
    "    enfiler(a, b)\n",
    "    while not est_file_vide(f):\n",
    "        enfiler(defiler(f), b)\n",
    "\n",
    "    while not est_file_vide(b):\n",
    "        enfiler(defiler(b), f)\n",
    "\n",
    "    return a\n",
    "\n",
    "def queue(f):\n",
    "    b = creer_file_vide()\n",
    "\n",
    "    while not est_file_vide(f):\n",
    "        a = defiler(f)\n",
    "        enfiler(a, b)\n",
    "    \n",
    "    return a\n"
   ]
  },
  {
   "cell_type": "markdown",
   "metadata": {},
   "source": [
    "## Patate chaude\n",
    "\n",
    "Le principe du jeu \"hot potato\" est le suivant : $N$ enfants ($N \\in \\mathbb N ^*$) forment une ronde, choisissent un $k$ naturel non nul et se passent le ballon dans le sens des aiguilles d'une montre en comptant les passes.\n",
    "Le jeu s'arrête après la $k$-ième passe, et l'enfant qui tient le ballon est éliminé, et le ballon revient au suivant.\n",
    "On répète jusqu'à ce qu'il ne reste plus que le vainqueur."
   ]
  },
  {
   "cell_type": "code",
   "execution_count": 85,
   "metadata": {},
   "outputs": [],
   "source": [
    "def heise_kartoffel(f, k):\n",
    "    N = taille_file(f)\n",
    "    n = N\n",
    "    while n > 1:\n",
    "        j = 0\n",
    "        while j < k:\n",
    "            enfiler(defiler(f), f)\n",
    "            j += 1\n",
    "        defiler(f)\n",
    "        n -= 1\n",
    "\n",
    "    return defiler(f)"
   ]
  },
  {
   "cell_type": "markdown",
   "metadata": {},
   "source": [
    "On peut alors se convaingre de l'exemple de la fauille de TP"
   ]
  },
  {
   "cell_type": "code",
   "execution_count": 86,
   "metadata": {},
   "outputs": [
    {
     "data": {
      "text/plain": [
       "'Jess'"
      ]
     },
     "execution_count": 86,
     "metadata": {},
     "output_type": "execute_result"
    }
   ],
   "source": [
    "k = 3\n",
    "f = [\"Lily\", \"Pema\", \"Tom\", \"Yani\", \"Jess\", \"Collin\"]\n",
    "\n",
    "heise_kartoffel(f, k)"
   ]
  }
 ],
 "metadata": {
  "kernelspec": {
   "display_name": ".venv",
   "language": "python",
   "name": "python3"
  },
  "language_info": {
   "codemirror_mode": {
    "name": "ipython",
    "version": 3
   },
   "file_extension": ".py",
   "mimetype": "text/x-python",
   "name": "python",
   "nbconvert_exporter": "python",
   "pygments_lexer": "ipython3",
   "version": "3.12.3"
  }
 },
 "nbformat": 4,
 "nbformat_minor": 2
}
