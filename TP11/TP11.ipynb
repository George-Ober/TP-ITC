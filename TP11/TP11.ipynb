{
 "cells": [
  {
   "cell_type": "markdown",
   "metadata": {},
   "source": [
    "# Compléments sur les graphes\n",
    "## DFS"
   ]
  },
  {
   "cell_type": "code",
   "execution_count": 8,
   "metadata": {},
   "outputs": [],
   "source": [
    "from math import *\n",
    "import numpy as np\n",
    "import matplotlib.pyplot as plt\n",
    "import random\n",
    "\n",
    "liste_gr1 = {\n",
    "    \"s\": [\"a\", \"b\"],\n",
    "    \"a\": [\"s\", \"c\"],\n",
    "    \"b\": [\"s\", \"c\", \"d\"],\n",
    "    \"c\": [\"a\", \"b\", \"d\", \"e\"],\n",
    "    \"d\": [\"b\", \"c\", \"e\"],\n",
    "    \"e\": [\"c\", \"d\"]\n",
    "}\n",
    "\n",
    "def creer_pile_vide():\n",
    "    return []\n",
    "\n",
    "def empiler(e, p):\n",
    "    p.append(e)\n",
    "\n",
    "def depiler(p):\n",
    "    # sommet = p.pop(random.randint(0,len(p)-1))\n",
    "    sommet = p.pop(-1)\n",
    "    return sommet\n",
    "\n",
    "def est_pile_vide(p):\n",
    "    return len(p) == 0\n",
    "\n",
    "\n",
    "def DFS_arbre(gr, s):\n",
    "    # Explore le graphe en profondeur et renvoie un arbre couvrant\n",
    "    p = creer_pile_vide()\n",
    "    marques = []\n",
    "    parent = {}\n",
    "    empiler(s, p)\n",
    "\n",
    "    while not est_pile_vide(p):\n",
    "        v = depiler(p)\n",
    "        if not v in marques:\n",
    "            marques.append(v)\n",
    "            for voisin in gr[v]:\n",
    "                if not voisin in marques:\n",
    "                    empiler(voisin, p)\n",
    "                    parent[voisin] = v\n",
    "    \n",
    "    f = marques[-1]\n",
    "    nouvelle = {}\n",
    "\n",
    "    for u in marques:\n",
    "        nouvelle[u] = []\n",
    "\n",
    "    for (a, b) in parent.items():\n",
    "        nouvelle[a].append(b)\n",
    "        nouvelle[b].append(a)\n",
    "    # while f != s:\n",
    "    #     u = parent[f]\n",
    "    #     nouvelle[u].append(f)\n",
    "    #     nouvelle[f].append(u)\n",
    "    #     f = u\n",
    "    return nouvelle"
   ]
  },
  {
   "cell_type": "markdown",
   "metadata": {},
   "source": [
    "## BFS\n",
    "On commence d'abord par définir la structure de pile"
   ]
  },
  {
   "cell_type": "code",
   "execution_count": 9,
   "metadata": {},
   "outputs": [],
   "source": [
    "def creer_file_vide():\n",
    "    return []\n",
    "\n",
    "\n",
    "def enfiler(e, f):\n",
    "    f.append(e)\n",
    "\n",
    "\n",
    "def defiler(f):\n",
    "    e = f.pop(0)\n",
    "    return e\n",
    "\n",
    "\n",
    "def est_file_vide(f):\n",
    "    return len(f) == 0\n",
    "\n",
    "def BFS(G, s):\n",
    "    F = creer_file_vide()\n",
    "    marques = []\n",
    "    parent = {}\n",
    "    enfiler(s, F)\n",
    "\n",
    "    while not est_file_vide(F):\n",
    "        v = defiler(F)\n",
    "        if not v in marques:\n",
    "            marques.append(v)\n",
    "            for voisin in G[v]:\n",
    "                if not voisin in marques:\n",
    "                    parent[voisin] = v\n",
    "                    enfiler(voisin, F)\n",
    "\n",
    "    return marques\n",
    "\n",
    "def BFS_arbre(G, s):\n",
    "    F = creer_file_vide()\n",
    "    marques = []\n",
    "    parent = {}\n",
    "    enfiler(s, F)\n",
    "\n",
    "    while not est_file_vide(F):\n",
    "        v = defiler(F)\n",
    "        if not v in marques:\n",
    "            marques.append(v)\n",
    "            for voisin in G[v]:\n",
    "                if not voisin in marques:\n",
    "                    parent[voisin] = v\n",
    "                    enfiler(voisin, F)\n",
    "\n",
    "    nouvelle = {}\n",
    "\n",
    "    for u in marques:\n",
    "        nouvelle[u] = []\n",
    "\n",
    "    for (a, b) in parent.items():\n",
    "        nouvelle[a].append(b)\n",
    "        nouvelle[b].append(a)\n",
    "\n",
    "    return nouvelle"
   ]
  },
  {
   "cell_type": "markdown",
   "metadata": {},
   "source": [
    "# Génération de réseaux"
   ]
  },
  {
   "cell_type": "code",
   "execution_count": 10,
   "metadata": {},
   "outputs": [],
   "source": [
    "def creer_reseau(n, p):\n",
    "\n",
    "    noeuds = []\n",
    "    arretes = []\n",
    "\n",
    "    for i in range(n):\n",
    "        for j in range(p):\n",
    "            noeuds.append((i, j))\n",
    "\n",
    "    for i in range(n):\n",
    "        for j in range(p-1):\n",
    "            arretes.append(((i, j), (i, j + 1)))\n",
    "\n",
    "    for i in range(n - 1):\n",
    "        for j in range(p):\n",
    "            arretes.append(((i, j), (i + 1, j)))\n",
    "\n",
    "    return (noeuds, arretes)\n",
    "\n",
    "def conversion(reseau):\n",
    "    (sommets, arretes) = reseau\n",
    "    a = {}\n",
    "\n",
    "    for s in sommets:\n",
    "        chaine = str(s[0]) + \"&\" + str(s[1])\n",
    "        a[chaine] = []\n",
    "\n",
    "    for x in arretes:\n",
    "        (u, v) = x\n",
    "        (ux, uy) = u\n",
    "        (vx, vy) = v\n",
    "        nomu = str(ux) + \"&\" + str(uy)\n",
    "        nomv = str(vx) + \"&\" + str(vy)\n",
    "\n",
    "        a[nomu].append(nomv)\n",
    "        a[nomv].append(nomu)\n",
    "\n",
    "    for voisins in a.values():\n",
    "         random.shuffle(voisins)\n",
    "\n",
    "\n",
    "    return a"
   ]
  },
  {
   "cell_type": "code",
   "execution_count": 11,
   "metadata": {},
   "outputs": [],
   "source": [
    "# def deconversion(liste, n, p):\n",
    "#     \"\"\"\n",
    "#         Attend mon format très particulier qui utilise des esperluettes\n",
    "#     \"\"\"\n",
    "#     noeuds = []\n",
    "#     arretes = []\n",
    "#\n",
    "#     for i in range(n):\n",
    "#         for j in range(p):\n",
    "#             noeuds.append((i, j))\n",
    "#\n",
    "#     for i in range(n):\n",
    "#         for j in range(p):\n",
    "#             arretes.append(((i, j), (i, j + 1)))"
   ]
  },
  {
   "cell_type": "markdown",
   "metadata": {},
   "source": [
    "# Génération de laby"
   ]
  },
  {
   "cell_type": "code",
   "execution_count": 12,
   "metadata": {},
   "outputs": [],
   "source": [
    "def afficher_labyrinthe(arbre, n, p):\n",
    "    lignes = np.zeros((2 * n - 1, 2 * p - 1), dtype = 'bool')\n",
    "\n",
    "    for i in range(n):\n",
    "        for j in range(p):\n",
    "            lignes[2 * i][2 * j] = True\n",
    "            identifiant_noeud = str(i) + \"&\" + str(j)\n",
    "\n",
    "            for voisin in arbre[identifiant_noeud]:\n",
    "                 coords = voisin.split(\"&\")\n",
    "                 if int(coords[0]) == i + 1:\n",
    "                     lignes[2 * i + 1][2 * j] = True\n",
    "                 elif int(coords[1]) == j + 1:\n",
    "                     lignes[2 * i][2 * j + 1] = True\n",
    "\n",
    "    plt.imshow(lignes, cmap='gray', interpolation='nearest')\n",
    "    plt.show()"
   ]
  },
  {
   "cell_type": "code",
   "execution_count": 13,
   "metadata": {},
   "outputs": [],
   "source": [
    "def creer(n, p):\n",
    "    grille = conversion(creer_reseau(n, p))\n",
    "    arbre_trouve = DFS_arbre(grille, '0&0')\n",
    "    afficher_labyrinthe(arbre_trouve, n, p)"
   ]
  },
  {
   "cell_type": "code",
   "execution_count": 14,
   "metadata": {},
   "outputs": [
    {
     "data": {
      "image/png": "[encoded data removed]",
      "text/plain": [
       "<Figure size 640x480 with 1 Axes>"
      ]
     },
     "metadata": {},
     "output_type": "display_data"
    }
   ],
   "source": [
    "creer(20, 20)"
   ]
  }
 ],
 "metadata": {
  "kernelspec": {
   "display_name": "Python 3",
   "language": "python",
   "name": "python3"
  },
  "language_info": {
   "codemirror_mode": {
    "name": "ipython",
    "version": 3
   },
   "file_extension": ".py",
   "mimetype": "text/x-python",
   "name": "python",
   "nbconvert_exporter": "python",
   "pygments_lexer": "ipython3",
   "version": "3.12.3"
  }
 },
 "nbformat": 4,
 "nbformat_minor": 2
}
